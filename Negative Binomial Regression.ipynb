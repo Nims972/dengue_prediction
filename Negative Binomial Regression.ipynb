{
 "cells": [
  {
   "cell_type": "markdown",
   "metadata": {},
   "source": [
    "#### importing the relevant packages and loading the data"
   ]
  },
  {
   "cell_type": "code",
   "execution_count": 1,
   "metadata": {},
   "outputs": [
    {
     "name": "stderr",
     "output_type": "stream",
     "text": [
      "/home/susmeet/anaconda3/lib/python3.6/site-packages/statsmodels/compat/pandas.py:56: FutureWarning: The pandas.core.datetools module is deprecated and will be removed in a future version. Please use the pandas.tseries module instead.\n",
      "  from pandas.core import datetools\n"
     ]
    }
   ],
   "source": [
    "import statsmodels.api as sm\n",
    "\n",
    "from warnings import filterwarnings\n",
    "\n",
    "filterwarnings('ignore')\n",
    "\n",
    "from statsmodels.tools import eval_measures\n",
    "import statsmodels.formula.api as smf"
   ]
  },
  {
   "cell_type": "code",
   "execution_count": 2,
   "metadata": {},
   "outputs": [],
   "source": [
    "import pandas as pd\n",
    "import numpy as np\n",
    "\n",
    "from sklearn.model_selection import train_test_split\n",
    "# from sklearn.feature_selection import RFE\n",
    "\n",
    "from sklearn.metrics import mean_absolute_error\n",
    "from sklearn.metrics import median_absolute_error\n",
    "from sklearn.model_selection import ParameterGrid\n",
    "from sklearn.model_selection import TimeSeriesSplit\n",
    "from sklearn.preprocessing import StandardScaler\n",
    "\n",
    "from scipy import stats\n",
    "\n",
    "from xgboost import XGBRegressor\n",
    "\n",
    "from sklearn.model_selection import cross_val_score\n",
    "from sklearn.metrics import make_scorer"
   ]
  },
  {
   "cell_type": "code",
   "execution_count": 27,
   "metadata": {},
   "outputs": [],
   "source": [
    "X = pd.read_csv(\"dengue_features_train.csv\")\n",
    "y = pd.read_csv(\"dengue_labels_train.csv\")\n",
    "test = pd.read_csv(\"dengue_features_test.csv\")"
   ]
  },
  {
   "cell_type": "markdown",
   "metadata": {},
   "source": [
    "#### Pre Processing"
   ]
  },
  {
   "cell_type": "code",
   "execution_count": 26,
   "metadata": {},
   "outputs": [],
   "source": [
    "def impute(X):\n",
    "    \n",
    "    # remove the colum that has ~20% null values, also ranks low on feature importance\n",
    "    X.drop(['ndvi_ne'], axis=1, inplace=True)\n",
    "    \n",
    "    # Filling the rest using linear interpolation\n",
    "    X.interpolate(inplace=True)\n",
    "\n",
    "def remove_outliers(df):\n",
    "    return df[(np.abs(stats.zscore(df)) < 5).all(axis=1)]\n",
    "\n",
    "def mape(Y_test, Y_pred, epsilon = 1):\n",
    "    return np.mean(np.abs((Y_test - Y_pred + epsilon) / (Y_test + epsilon))) * 100\n",
    "\n",
    "def extract_month(s):\n",
    "    return int(s[5:7])\n",
    "\n",
    "def city_indices(X):\n",
    "    # city boolean encoding\n",
    "    return X.city == 'sj'\n",
    "\n",
    "def pre_process(X, trees = False):\n",
    "    \"\"\"\n",
    "    Extracts the month out of date and converts it to a one hot\n",
    "    Standardizes the numerical features\n",
    "    \"\"\"\n",
    "    \n",
    "    #Extracting month from the date\n",
    "    months = X.week_start_date.apply(extract_month)\n",
    "\n",
    "    # Removing the columns not required for classification\n",
    "    X.drop(['city', 'year', 'weekofyear', 'week_start_date'], axis=1, inplace=True)\n",
    "\n",
    "    # Standardizing the data\n",
    "    if not trees:\n",
    "        scaler = StandardScaler()\n",
    "        X[X.columns] = scaler.fit_transform(X)\n",
    "\n",
    "    # Month one hot features\n",
    "    month_features = pd.get_dummies(months, prefix='m_')\n",
    "    X = X.join(month_features)\n",
    "\n",
    "    # Alternatively use months as a discrete feature\n",
    "    #X = X.join(months)\n",
    "    \n",
    "    return X\n",
    "\n",
    "def seperate_cities_data(X, is_sj):\n",
    "\n",
    "    # Seperating the cities data\n",
    "    X_sj = X.loc[is_sj]\n",
    "    X_iq = X.loc[~is_sj]\n",
    "    \n",
    "    return X_sj, X_iq\n",
    "\n",
    "def get_y_labels(X_sj, X_iq, y):    \n",
    "    \n",
    "    y = y.total_cases    \n",
    "    y_sj = y.loc[X_sj.index]\n",
    "    y_iq = y.loc[X_iq.index]\n",
    "    \n",
    "    return y_sj, y_iq\n",
    "\n",
    "def split(X_sj, X_iq, y_sj, y_iq):\n",
    "\n",
    "    # train and test split\n",
    "    sj_split_data = train_test_split(X_sj, y_sj, shuffle = False)\n",
    "    iq_split_data = train_test_split(X_iq, y_iq, shuffle = False)\n",
    "\n",
    "    return sj_split_data, iq_split_data\n",
    "\n",
    "def process(X, y = pd.Series(), train = True, trees = False):\n",
    "    \n",
    "    is_sj = city_indices(X)\n",
    "    if not trees:\n",
    "        impute(X)\n",
    "    X = pre_process(X, trees)\n",
    "    \n",
    "    #X = remove_outliers(X)\n",
    "    X_sj, X_iq = seperate_cities_data(X, is_sj)\n",
    "    if y.empty:\n",
    "        return X_sj, X_iq\n",
    "    \n",
    "    y_sj, y_iq = get_y_labels(X_sj, X_iq, y)\n",
    "    if not train:\n",
    "        return X_sj, X_iq, y_sj, y_iq\n",
    "    \n",
    "    return split(X_sj, X_iq, y_sj, y_iq)"
   ]
  },
  {
   "cell_type": "code",
   "execution_count": 28,
   "metadata": {},
   "outputs": [],
   "source": [
    "data = process(X,y)\n",
    "(X_sj_train, X_sj_test, Y_sj_train, Y_sj_test), (X_iq_train, X_iq_test, Y_iq_train, Y_iq_test) = data"
   ]
  },
  {
   "cell_type": "markdown",
   "metadata": {},
   "source": [
    "#### Negative Binomial"
   ]
  },
  {
   "cell_type": "code",
   "execution_count": 39,
   "metadata": {},
   "outputs": [],
   "source": [
    "model_formula = \"y ~ \" \\\n",
    "                \"reanalysis_specific_humidity_g_per_kg + \" \\\n",
    "                \"reanalysis_dew_point_temp_k + \" \\\n",
    "                \"reanalysis_max_air_temp_k + \" \\\n",
    "                \"station_min_temp_c\""
   ]
  },
  {
   "cell_type": "code",
   "execution_count": 29,
   "metadata": {},
   "outputs": [],
   "source": [
    "train_sj = X_sj_train.copy()\n",
    "train_sj['y'] = Y_sj_train\n",
    "\n",
    "test_sj = X_sj_test.copy()"
   ]
  },
  {
   "cell_type": "code",
   "execution_count": 30,
   "metadata": {},
   "outputs": [],
   "source": [
    "formula = ' + '.join([str(i) for i in list(X_sj_train.columns)])\n",
    "formula = 'y ~ ' + formula"
   ]
  },
  {
   "cell_type": "code",
   "execution_count": 31,
   "metadata": {},
   "outputs": [],
   "source": [
    "model = smf.glm(formula=formula,\n",
    "                data=train_sj,\n",
    "                family=sm.families.NegativeBinomial())\n",
    "\n",
    "model = model.fit()"
   ]
  },
  {
   "cell_type": "code",
   "execution_count": 32,
   "metadata": {},
   "outputs": [],
   "source": [
    "predictions = model.predict(test_sj).astype(int)"
   ]
  },
  {
   "cell_type": "code",
   "execution_count": 33,
   "metadata": {},
   "outputs": [],
   "source": [
    "score = eval_measures.meanabs(predictions, Y_sj_test)"
   ]
  },
  {
   "cell_type": "code",
   "execution_count": 34,
   "metadata": {},
   "outputs": [
    {
     "data": {
      "text/plain": [
       "22.602564102564102"
      ]
     },
     "execution_count": 34,
     "metadata": {},
     "output_type": "execute_result"
    }
   ],
   "source": [
    "score"
   ]
  },
  {
   "cell_type": "markdown",
   "metadata": {},
   "source": [
    "#### time based cross validations"
   ]
  },
  {
   "cell_type": "code",
   "execution_count": 40,
   "metadata": {
    "scrolled": true
   },
   "outputs": [
    {
     "name": "stdout",
     "output_type": "stream",
     "text": [
      "Observations: 171\n",
      "Training Observations: 86\n",
      "Testing Observations: 85\n",
      "The error is : 25.050005033552154\n",
      "The improved error is : 18.769353415979243\n",
      "\n",
      "\n",
      "Observations: 256\n",
      "Training Observations: 171\n",
      "Testing Observations: 85\n",
      "The error is : 64.07987397359854\n",
      "The improved error is : 66.34764931813167\n",
      "\n",
      "\n",
      "Observations: 341\n",
      "Training Observations: 256\n",
      "Testing Observations: 85\n",
      "The error is : 30.09983436684409\n",
      "The improved error is : 40.897010830527115\n",
      "\n",
      "\n",
      "Observations: 426\n",
      "Training Observations: 341\n",
      "Testing Observations: 85\n",
      "The error is : 21.327720310751932\n",
      "The improved error is : 21.92113281643686\n",
      "\n",
      "\n",
      "Observations: 511\n",
      "Training Observations: 426\n",
      "Testing Observations: 85\n",
      "The error is : 35.74883733509669\n",
      "The improved error is : 37.342354312131576\n",
      "\n",
      "\n",
      "Observations: 596\n",
      "Training Observations: 511\n",
      "Testing Observations: 85\n",
      "The error is : 22.09534515183008\n",
      "The improved error is : 35.02266300010787\n",
      "\n",
      "\n",
      "Observations: 681\n",
      "Training Observations: 596\n",
      "Testing Observations: 85\n",
      "The error is : 31.317828359706446\n",
      "The improved error is : 32.021873632334554\n",
      "\n",
      "\n",
      "Observations: 766\n",
      "Training Observations: 681\n",
      "Testing Observations: 85\n",
      "The error is : 21.0076389236026\n",
      "The improved error is : 26.052906948210662\n",
      "\n",
      "\n",
      "Observations: 851\n",
      "Training Observations: 766\n",
      "Testing Observations: 85\n",
      "The error is : 19.440288912217294\n",
      "The improved error is : 27.007581850988522\n",
      "\n",
      "\n",
      "Observations: 936\n",
      "Training Observations: 851\n",
      "Testing Observations: 85\n",
      "The error is : 20.618687282804764\n",
      "The improved error is : 21.82145684693285\n",
      "\n",
      "\n"
     ]
    }
   ],
   "source": [
    "from sklearn.model_selection import TimeSeriesSplit\n",
    "\n",
    "splits = TimeSeriesSplit(n_splits=10)\n",
    "for train_index, test_index in splits.split(X_sj):\n",
    "    train = X_sj.iloc[train_index]\n",
    "    test = X_sj.iloc[test_index]\n",
    "\n",
    "    print('Observations: %d' % (len(train) + len(test)))\n",
    "    print('Training Observations: %d' % (len(train)))\n",
    "    print('Testing Observations: %d' % (len(test)))\n",
    "    \n",
    "    model = smf.glm(formula=formula,\n",
    "                    data=train,\n",
    "                    family=sm.families.NegativeBinomial())\n",
    "    model = model.fit()\n",
    "    y_pred = model.predict(test)\n",
    "    y_test = test['y']\n",
    "    \n",
    "    print('The error is :', mean_absolute_error(y_pred, y_test))\n",
    "    \n",
    "    model = smf.glm(formula=model_formula,\n",
    "                data=train,\n",
    "                family=sm.families.NegativeBinomial())\n",
    "    model = model.fit()\n",
    "    y_pred = model.predict(test)\n",
    "    \n",
    "    print('The improved error is :', mean_absolute_error(y_pred, y_test))\n",
    "    print('\\n')"
   ]
  },
  {
   "cell_type": "code",
   "execution_count": 41,
   "metadata": {
    "scrolled": true
   },
   "outputs": [
    {
     "name": "stdout",
     "output_type": "stream",
     "text": [
      "Observations: 97\n",
      "Training Observations: 50\n",
      "Testing Observations: 47\n",
      "The error is : 44.18153077923765\n",
      "The improved error is : 48.9891672180699\n",
      "\n",
      "\n",
      "Observations: 144\n",
      "Training Observations: 97\n",
      "Testing Observations: 47\n",
      "The error is : 34.4126045107896\n",
      "The improved error is : 13.971000057019054\n",
      "\n",
      "\n",
      "Observations: 191\n",
      "Training Observations: 144\n",
      "Testing Observations: 47\n",
      "The error is : 22.30170448669125\n",
      "The improved error is : 22.097412942598062\n",
      "\n",
      "\n",
      "Observations: 238\n",
      "Training Observations: 191\n",
      "Testing Observations: 47\n",
      "The error is : 81.17416032340172\n",
      "The improved error is : 87.31470133986242\n",
      "\n",
      "\n",
      "Observations: 285\n",
      "Training Observations: 238\n",
      "Testing Observations: 47\n",
      "The error is : 32.96837664430572\n",
      "The improved error is : 57.29418404697074\n",
      "\n",
      "\n",
      "Observations: 332\n",
      "Training Observations: 285\n",
      "Testing Observations: 47\n",
      "The error is : 32.42788905613295\n",
      "The improved error is : 32.887411454495606\n",
      "\n",
      "\n",
      "Observations: 379\n",
      "Training Observations: 332\n",
      "Testing Observations: 47\n",
      "The error is : 16.475065463826468\n",
      "The improved error is : 26.759345033407712\n",
      "\n",
      "\n",
      "Observations: 426\n",
      "Training Observations: 379\n",
      "Testing Observations: 47\n",
      "The error is : 28.332491064400344\n",
      "The improved error is : 17.239530025557034\n",
      "\n",
      "\n",
      "Observations: 473\n",
      "Training Observations: 426\n",
      "Testing Observations: 47\n",
      "The error is : 47.68383177511061\n",
      "The improved error is : 51.74144675485123\n",
      "\n",
      "\n",
      "Observations: 520\n",
      "Training Observations: 473\n",
      "Testing Observations: 47\n",
      "The error is : 26.85095607074793\n",
      "The improved error is : 24.93110856614382\n",
      "\n",
      "\n"
     ]
    }
   ],
   "source": [
    "from sklearn.model_selection import TimeSeriesSplit\n",
    "\n",
    "splits = TimeSeriesSplit(n_splits=10)\n",
    "for train_index, test_index in splits.split(X_iq):\n",
    "    train = X_sj.iloc[train_index]\n",
    "    test = X_sj.iloc[test_index]\n",
    "\n",
    "    print('Observations: %d' % (len(train) + len(test)))\n",
    "    print('Training Observations: %d' % (len(train)))\n",
    "    print('Testing Observations: %d' % (len(test)))\n",
    "    \n",
    "    model = smf.glm(formula=formula,\n",
    "                    data=train,\n",
    "                    family=sm.families.NegativeBinomial())\n",
    "    model = model.fit()\n",
    "    y_pred = model.predict(test)\n",
    "    y_test = test['y']\n",
    "    \n",
    "    print('The error is :', mean_absolute_error(y_pred, y_test))\n",
    "    \n",
    "    model = smf.glm(formula=model_formula,\n",
    "                data=train,\n",
    "                family=sm.families.NegativeBinomial())\n",
    "    model = model.fit()\n",
    "    y_pred = model.predict(test)\n",
    "    \n",
    "    print('The improved error is :', mean_absolute_error(y_pred, y_test))\n",
    "    print('\\n')"
   ]
  },
  {
   "cell_type": "markdown",
   "metadata": {},
   "source": [
    "#### Submission"
   ]
  },
  {
   "cell_type": "code",
   "execution_count": 35,
   "metadata": {},
   "outputs": [],
   "source": [
    "X = pd.read_csv(\"dengue_features_train.csv\")\n",
    "y = pd.read_csv(\"dengue_labels_train.csv\")\n",
    "test = pd.read_csv(\"dengue_features_test.csv\")"
   ]
  },
  {
   "cell_type": "code",
   "execution_count": 36,
   "metadata": {},
   "outputs": [],
   "source": [
    "X_sj, X_iq, y_sj, y_iq = process(X, y, train = False)\n",
    "X_sj_test, X_iq_test = process(test)"
   ]
  },
  {
   "cell_type": "code",
   "execution_count": 37,
   "metadata": {},
   "outputs": [],
   "source": [
    "X_sj['y'] = y_sj"
   ]
  },
  {
   "cell_type": "code",
   "execution_count": 38,
   "metadata": {},
   "outputs": [],
   "source": [
    "X_iq['y'] = y_iq"
   ]
  },
  {
   "cell_type": "code",
   "execution_count": 105,
   "metadata": {},
   "outputs": [],
   "source": [
    "model = smf.glm(formula=formula,\n",
    "                data=X_sj,\n",
    "                family=sm.families.NegativeBinomial())\n",
    "model = model.fit()\n",
    "Y_pred_sj = model.predict(X_sj_test)\n",
    "\n",
    "model = smf.glm(formula=formula,\n",
    "                data=X_iq,\n",
    "                family=sm.families.NegativeBinomial())\n",
    "model = model.fit()\n",
    "Y_pred_iq = model.predict(X_iq_test)\n",
    "\n",
    "Y_pred = np.concatenate([Y_pred_sj, Y_pred_iq])"
   ]
  },
  {
   "cell_type": "code",
   "execution_count": 110,
   "metadata": {
    "scrolled": true
   },
   "outputs": [],
   "source": [
    "test = pd.read_csv(\"dengue_features_test.csv\")\n",
    "submission = test.loc[:,['city', 'year', 'weekofyear']].copy()\n",
    "submission['total_cases'] = Y_pred.astype(int)\n",
    "submission.to_csv('submission_5.csv', index=False)"
   ]
  }
 ],
 "metadata": {
  "kernelspec": {
   "display_name": "Python 3",
   "language": "python",
   "name": "python3"
  },
  "language_info": {
   "codemirror_mode": {
    "name": "ipython",
    "version": 3
   },
   "file_extension": ".py",
   "mimetype": "text/x-python",
   "name": "python",
   "nbconvert_exporter": "python",
   "pygments_lexer": "ipython3",
   "version": "3.6.4"
  }
 },
 "nbformat": 4,
 "nbformat_minor": 2
}
