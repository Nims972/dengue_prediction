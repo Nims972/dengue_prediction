{
 "cells": [
  {
   "cell_type": "markdown",
   "metadata": {},
   "source": [
    "Disclaimer : This notebook still needs more documentation and refinement!"
   ]
  },
  {
   "cell_type": "markdown",
   "metadata": {},
   "source": [
    "#### importing the relevant libraries and preparing the data"
   ]
  },
  {
   "cell_type": "code",
   "execution_count": 1,
   "metadata": {},
   "outputs": [],
   "source": [
    "import warnings\n",
    "import itertools\n",
    "\n",
    "import pandas as pd\n",
    "import numpy as np\n",
    "\n",
    "import matplotlib.pyplot as plt\n",
    "import seaborn as sns\n",
    "\n",
    "X = pd.read_csv(\"data/dengue_features_train.csv\")\n",
    "y = pd.read_csv(\"data/dengue_labels_train.csv\")"
   ]
  },
  {
   "cell_type": "code",
   "execution_count": 2,
   "metadata": {
    "scrolled": true
   },
   "outputs": [
    {
     "name": "stderr",
     "output_type": "stream",
     "text": [
      "/home/susmeet/anaconda3/lib/python3.6/site-packages/statsmodels/compat/pandas.py:56: FutureWarning: The pandas.core.datetools module is deprecated and will be removed in a future version. Please use the pandas.tseries module instead.\n",
      "  from pandas.core import datetools\n"
     ]
    }
   ],
   "source": [
    "from statsmodels.tsa.arima_model import ARIMA\n",
    "from statsmodels.tsa.stattools import adfuller\n",
    "import statsmodels.api as sm"
   ]
  },
  {
   "cell_type": "code",
   "execution_count": 3,
   "metadata": {},
   "outputs": [],
   "source": [
    "#setting a datetime index\n",
    "y.index = pd.DatetimeIndex(X.week_start_date)\n",
    "\n",
    "#seperating the data for the 2 cities\n",
    "sj_cases = y.total_cases[y.city == 'sj']\n",
    "iq_cases = y.total_cases[y.city == 'iq']"
   ]
  },
  {
   "cell_type": "code",
   "execution_count": 4,
   "metadata": {},
   "outputs": [],
   "source": [
    "#month sampling\n",
    "sj_monthly = sj_cases.resample('M').sum()\n",
    "iq_monthly = iq_cases.resample('M').sum()"
   ]
  },
  {
   "cell_type": "markdown",
   "metadata": {},
   "source": [
    "#### Analysing the auto correlation and partial auto correlation for our data at different lags"
   ]
  },
  {
   "cell_type": "code",
   "execution_count": 5,
   "metadata": {},
   "outputs": [
    {
     "data": {
      "image/png": "[encoded data removed]",
      "text/plain": [
       "<matplotlib.figure.Figure at 0x7f128d821e10>"
      ]
     },
     "metadata": {},
     "output_type": "display_data"
    }
   ],
   "source": [
    "fig = plt.figure(figsize=(12,8))\n",
    "ax1 = fig.add_subplot(211)\n",
    "fig = sm.graphics.tsa.plot_acf(sj_monthly, lags=40, ax=ax1)\n",
    "ax2 = fig.add_subplot(212)\n",
    "fig = sm.graphics.tsa.plot_pacf(sj_monthly, lags=40, ax=ax2)"
   ]
  },
  {
   "cell_type": "markdown",
   "metadata": {},
   "source": [
    " - **AR**: There is significant autocorrelation at lags upto 3 or even 4\n",
    " - **I**: Periodicity occurs at every 12th month, which is expected\n",
    " - **MA**: There is a clear partial auto correlation until lag 3"
   ]
  },
  {
   "cell_type": "markdown",
   "metadata": {},
   "source": [
    "#### Tuning the hyperparameters for the Arima model\n",
    "<font color='red'>This section is a work in progress</font>"
   ]
  },
  {
   "cell_type": "code",
   "execution_count": 19,
   "metadata": {},
   "outputs": [],
   "source": [
    "# Define the p, d and q parameters to take any value between 0 and 2\n",
    "p = d = q = range(0, 2)\n",
    "\n",
    "# Generate all different combinations of p, q and q triplets\n",
    "pdq = list(itertools.product(p, d, q))\n",
    "\n",
    "# Generate all different combinations of seasonal p, q and q triplets\n",
    "# seasonal_pdq = [(x[0], x[1], x[2], 12) for x in list(itertools.product(p, d, q))]"
   ]
  },
  {
   "cell_type": "code",
   "execution_count": 27,
   "metadata": {},
   "outputs": [],
   "source": [
    "pdq = [(3,0,1),\n",
    "       (3,0,2),\n",
    "       (3,0,3),\n",
    "       (3,0,4),\n",
    "       (4,0,1),\n",
    "       (4,0,2),\n",
    "       (4,0,3),\n",
    "       (4,0,4),\n",
    "       (1,0,3),\n",
    "       (2,0,3),\n",
    "       (1,0,4),\n",
    "       (2,0,4)\n",
    "      ]"
   ]
  },
  {
   "cell_type": "code",
   "execution_count": 28,
   "metadata": {},
   "outputs": [],
   "source": [
    "seasonal_pdq = [\n",
    "       (3,2,2,12),\n",
    "       (4,2,1,12),\n",
    "       (4,2,2,12),\n",
    "       (2,2,3,12),\n",
    "       (1,2,4,12),\n",
    "       (2,2,4,12)\n",
    "      ]"
   ]
  },
  {
   "cell_type": "code",
   "execution_count": 29,
   "metadata": {},
   "outputs": [],
   "source": [
    "best_aic = 100000\n",
    "optimal_pdq = 0\n",
    "optimal_seasonal_pdq = 0"
   ]
  },
  {
   "cell_type": "code",
   "execution_count": 30,
   "metadata": {},
   "outputs": [],
   "source": [
    "warnings.filterwarnings(\"ignore\") # specify to ignore warning messages"
   ]
  },
  {
   "cell_type": "code",
   "execution_count": 31,
   "metadata": {
    "collapsed": true
   },
   "outputs": [
    {
     "name": "stdout",
     "output_type": "stream",
     "text": [
      "ARIMA(3, 0, 1)x(3, 2, 2, 12) - AIC:1948.1216709910318\n",
      "ARIMA(3, 0, 1)x(4, 2, 1, 12) - AIC:1792.98024584508\n",
      "ARIMA(3, 0, 1)x(4, 2, 2, 12) - AIC:1887.5702626520817\n",
      "ARIMA(3, 0, 1)x(2, 2, 3, 12) - AIC:2060.075682342034\n",
      "ARIMA(3, 0, 1)x(1, 2, 4, 12) - AIC:1756.576588342697\n",
      "ARIMA(3, 0, 1)x(2, 2, 4, 12) - AIC:1779.1513850989454\n",
      "ARIMA(3, 0, 2)x(3, 2, 2, 12) - AIC:2041.7954941730493\n",
      "ARIMA(3, 0, 2)x(4, 2, 1, 12) - AIC:1865.7682356187702\n",
      "ARIMA(3, 0, 2)x(4, 2, 2, 12) - AIC:1862.2750852137028\n",
      "ARIMA(3, 0, 2)x(2, 2, 3, 12) - AIC:2058.3515171557874\n",
      "ARIMA(3, 0, 2)x(1, 2, 4, 12) - AIC:1894.244422660541\n",
      "ARIMA(3, 0, 2)x(2, 2, 4, 12) - AIC:1895.304638265609\n",
      "ARIMA(3, 0, 3)x(3, 2, 2, 12) - AIC:2053.2150929897944\n",
      "ARIMA(3, 0, 3)x(4, 2, 1, 12) - AIC:1862.8544904174007\n",
      "ARIMA(3, 0, 3)x(4, 2, 2, 12) - AIC:1887.5840333685974\n",
      "ARIMA(3, 0, 3)x(2, 2, 3, 12) - AIC:2043.7894154512041\n",
      "ARIMA(3, 0, 3)x(1, 2, 4, 12) - AIC:1870.6500639464844\n",
      "ARIMA(3, 0, 3)x(2, 2, 4, 12) - AIC:1882.0531677961656\n",
      "ARIMA(3, 0, 4)x(3, 2, 2, 12) - AIC:2031.8569276997005\n",
      "ARIMA(3, 0, 4)x(4, 2, 1, 12) - AIC:1881.786412413644\n",
      "ARIMA(3, 0, 4)x(4, 2, 2, 12) - AIC:1884.3506420844833\n",
      "ARIMA(3, 0, 4)x(2, 2, 3, 12) - AIC:2027.8005710300704\n",
      "ARIMA(3, 0, 4)x(1, 2, 4, 12) - AIC:1852.8410489980383\n",
      "ARIMA(3, 0, 4)x(2, 2, 4, 12) - AIC:1854.6418254879684\n",
      "ARIMA(4, 0, 1)x(3, 2, 2, 12) - AIC:2043.0510347295115\n",
      "ARIMA(4, 0, 1)x(4, 2, 1, 12) - AIC:1727.009495786157\n",
      "ARIMA(4, 0, 1)x(4, 2, 2, 12) - AIC:1836.853834268281\n",
      "ARIMA(4, 0, 1)x(2, 2, 3, 12) - AIC:1943.8999823437202\n",
      "ARIMA(4, 0, 1)x(1, 2, 4, 12) - AIC:1753.1612396679031\n",
      "ARIMA(4, 0, 1)x(2, 2, 4, 12) - AIC:1878.1550464831332\n",
      "ARIMA(4, 0, 2)x(3, 2, 2, 12) - AIC:2037.038687957473\n",
      "ARIMA(4, 0, 2)x(4, 2, 1, 12) - AIC:1859.733385077086\n",
      "ARIMA(4, 0, 2)x(4, 2, 2, 12) - AIC:1838.3770636641996\n",
      "ARIMA(4, 0, 2)x(2, 2, 3, 12) - AIC:2066.3989966933395\n",
      "ARIMA(4, 0, 2)x(1, 2, 4, 12) - AIC:1892.6744665405035\n",
      "ARIMA(4, 0, 2)x(2, 2, 4, 12) - AIC:1896.6607735318912\n",
      "ARIMA(4, 0, 3)x(3, 2, 2, 12) - AIC:2045.4612513009074\n",
      "ARIMA(4, 0, 3)x(4, 2, 1, 12) - AIC:1880.595816365876\n",
      "ARIMA(4, 0, 3)x(4, 2, 2, 12) - AIC:1865.688592821342\n",
      "ARIMA(4, 0, 3)x(2, 2, 3, 12) - AIC:2049.524357453846\n",
      "ARIMA(4, 0, 3)x(1, 2, 4, 12) - AIC:1877.5521043907058\n",
      "ARIMA(4, 0, 3)x(2, 2, 4, 12) - AIC:1883.259504286094\n",
      "ARIMA(4, 0, 4)x(3, 2, 2, 12) - AIC:2039.0391769991\n",
      "ARIMA(4, 0, 4)x(4, 2, 1, 12) - AIC:1861.2768152497606\n",
      "ARIMA(4, 0, 4)x(4, 2, 2, 12) - AIC:1870.4981824181418\n",
      "ARIMA(4, 0, 4)x(2, 2, 3, 12) - AIC:2027.3512227742353\n",
      "ARIMA(4, 0, 4)x(1, 2, 4, 12) - AIC:1857.5146765936533\n",
      "ARIMA(4, 0, 4)x(2, 2, 4, 12) - AIC:1859.7139185449273\n",
      "ARIMA(1, 0, 3)x(3, 2, 2, 12) - AIC:1972.0887714382882\n",
      "ARIMA(1, 0, 3)x(4, 2, 1, 12) - AIC:1814.047928997457\n",
      "ARIMA(1, 0, 3)x(4, 2, 2, 12) - AIC:1862.8795125288768\n",
      "ARIMA(1, 0, 3)x(2, 2, 3, 12) - AIC:1916.9547037731268\n",
      "ARIMA(1, 0, 3)x(1, 2, 4, 12) - AIC:1747.4481231450031\n",
      "ARIMA(1, 0, 3)x(2, 2, 4, 12) - AIC:1718.9794281451739\n",
      "ARIMA(2, 0, 3)x(3, 2, 2, 12) - AIC:1999.5910661986954\n",
      "ARIMA(2, 0, 3)x(4, 2, 1, 12) - AIC:1779.3143733904813\n",
      "ARIMA(2, 0, 3)x(4, 2, 2, 12) - AIC:1848.6653586127552\n",
      "ARIMA(2, 0, 3)x(2, 2, 3, 12) - AIC:1938.0336605906223\n",
      "ARIMA(2, 0, 3)x(1, 2, 4, 12) - AIC:1880.026095248561\n",
      "ARIMA(2, 0, 3)x(2, 2, 4, 12) - AIC:1880.788349568685\n",
      "ARIMA(1, 0, 4)x(3, 2, 2, 12) - AIC:1964.8795633777997\n",
      "ARIMA(1, 0, 4)x(4, 2, 1, 12) - AIC:1762.2277740792324\n",
      "ARIMA(1, 0, 4)x(4, 2, 2, 12) - AIC:1890.6046060785434\n",
      "ARIMA(1, 0, 4)x(2, 2, 3, 12) - AIC:1970.3683346888786\n",
      "ARIMA(1, 0, 4)x(1, 2, 4, 12) - AIC:1730.7774632913745\n",
      "ARIMA(1, 0, 4)x(2, 2, 4, 12) - AIC:1859.745823627919\n",
      "ARIMA(2, 0, 4)x(3, 2, 2, 12) - AIC:2070.7358299526645\n",
      "ARIMA(2, 0, 4)x(4, 2, 1, 12) - AIC:1900.1673181373217\n",
      "ARIMA(2, 0, 4)x(4, 2, 2, 12) - AIC:1900.174081973942\n",
      "ARIMA(2, 0, 4)x(2, 2, 3, 12) - AIC:2031.8886245633553\n",
      "ARIMA(2, 0, 4)x(1, 2, 4, 12) - AIC:1860.2230526399826\n",
      "ARIMA(2, 0, 4)x(2, 2, 4, 12) - AIC:1866.590358540287\n"
     ]
    }
   ],
   "source": [
    "for param in pdq:\n",
    "    for param_seasonal in seasonal_pdq:\n",
    "        try:\n",
    "            mod = sm.tsa.statespace.SARIMAX(sj_monthly,\n",
    "                                            order=param,\n",
    "                                            seasonal_order=param_seasonal,\n",
    "                                            enforce_stationarity=False,\n",
    "                                            enforce_invertibility=False)\n",
    "\n",
    "            results = mod.fit()\n",
    "            \n",
    "            if results.aic < best_aic:\n",
    "                best_aic = results.aic\n",
    "                optimal_pdq = param\n",
    "                optimal_seasonal_pdq = param_seasonal\n",
    "\n",
    "            print('ARIMA{}x{} - AIC:{}'.format(param, param_seasonal, results.aic))\n",
    "        except:\n",
    "            continue"
   ]
  },
  {
   "cell_type": "markdown",
   "metadata": {},
   "source": [
    "> Following are the optimised hyperparameters for the arima or in this case sarimax model"
   ]
  },
  {
   "cell_type": "code",
   "execution_count": 32,
   "metadata": {},
   "outputs": [
    {
     "data": {
      "text/plain": [
       "1718.9794281451739"
      ]
     },
     "execution_count": 32,
     "metadata": {},
     "output_type": "execute_result"
    }
   ],
   "source": [
    "best_aic"
   ]
  },
  {
   "cell_type": "code",
   "execution_count": 33,
   "metadata": {},
   "outputs": [
    {
     "data": {
      "text/plain": [
       "(1, 0, 3)"
      ]
     },
     "execution_count": 33,
     "metadata": {},
     "output_type": "execute_result"
    }
   ],
   "source": [
    "optimal_pdq"
   ]
  },
  {
   "cell_type": "code",
   "execution_count": 34,
   "metadata": {},
   "outputs": [
    {
     "data": {
      "text/plain": [
       "(2, 2, 4, 12)"
      ]
     },
     "execution_count": 34,
     "metadata": {},
     "output_type": "execute_result"
    }
   ],
   "source": [
    "optimal_seasonal_pdq"
   ]
  },
  {
   "cell_type": "markdown",
   "metadata": {},
   "source": [
    "> Fitting the model on optimised hyperparameters"
   ]
  },
  {
   "cell_type": "code",
   "execution_count": 6,
   "metadata": {
    "scrolled": true
   },
   "outputs": [
    {
     "name": "stderr",
     "output_type": "stream",
     "text": [
      "/home/susmeet/anaconda3/lib/python3.6/site-packages/statsmodels/base/model.py:496: ConvergenceWarning: Maximum Likelihood optimization failed to converge. Check mle_retvals\n",
      "  \"Check mle_retvals\", ConvergenceWarning)\n"
     ]
    },
    {
     "name": "stdout",
     "output_type": "stream",
     "text": [
      "                                 Statespace Model Results                                 \n",
      "==========================================================================================\n",
      "Dep. Variable:                        total_cases   No. Observations:                  217\n",
      "Model:             SARIMAX(4, 1, 3)x(1, 1, 1, 12)   Log Likelihood               -1279.931\n",
      "Date:                            Fri, 11 May 2018   AIC                           2579.862\n",
      "Time:                                    17:40:47   BIC                           2613.661\n",
      "Sample:                                04-30-1990   HQIC                          2593.516\n",
      "                                     - 04-30-2008                                         \n",
      "Covariance Type:                              opg                                         \n",
      "==============================================================================\n",
      "                 coef    std err          z      P>|z|      [0.025      0.975]\n",
      "------------------------------------------------------------------------------\n",
      "ar.L1          1.7038      0.631      2.701      0.007       0.467       2.940\n",
      "ar.L2         -0.7084      1.452     -0.488      0.626      -3.554       2.137\n",
      "ar.L3         -0.0468      1.213     -0.039      0.969      -2.424       2.330\n",
      "ar.L4          0.0143      0.398      0.036      0.971      -0.765       0.794\n",
      "ma.L1         -1.4089      0.648     -2.176      0.030      -2.678      -0.140\n",
      "ma.L2         -0.0685      1.297     -0.053      0.958      -2.611       2.474\n",
      "ma.L3          0.4896      0.686      0.713      0.476      -0.856       1.835\n",
      "ar.S.L12       0.0194      0.121      0.160      0.873      -0.218       0.257\n",
      "ma.S.L12      -0.9312      0.183     -5.100      0.000      -1.289      -0.573\n",
      "sigma2      2.036e+04   3537.207      5.755      0.000    1.34e+04    2.73e+04\n",
      "===================================================================================\n",
      "Ljung-Box (Q):                       30.19   Jarque-Bera (JB):              1723.16\n",
      "Prob(Q):                              0.87   Prob(JB):                         0.00\n",
      "Heteroskedasticity (H):               0.21   Skew:                             1.24\n",
      "Prob(H) (two-sided):                  0.00   Kurtosis:                        17.02\n",
      "===================================================================================\n",
      "\n",
      "Warnings:\n",
      "[1] Covariance matrix calculated using the outer product of gradients (complex-step).\n"
     ]
    }
   ],
   "source": [
    "mod = sm.tsa.statespace.SARIMAX(sj_monthly, order=(4,1,3), seasonal_order=(1,1,1,12))\n",
    "results = mod.fit()\n",
    "print (results.summary())"
   ]
  },
  {
   "cell_type": "code",
   "execution_count": 7,
   "metadata": {},
   "outputs": [],
   "source": [
    "pred = results.predict()  "
   ]
  },
  {
   "cell_type": "code",
   "execution_count": 8,
   "metadata": {},
   "outputs": [],
   "source": [
    "from sklearn.metrics import mean_absolute_error"
   ]
  },
  {
   "cell_type": "code",
   "execution_count": 9,
   "metadata": {},
   "outputs": [
    {
     "data": {
      "text/plain": [
       "60.51614779317429"
      ]
     },
     "execution_count": 9,
     "metadata": {},
     "output_type": "execute_result"
    }
   ],
   "source": [
    "mean_absolute_error(sj_monthly[:-1], pred.shift(-1).dropna().clip(0))"
   ]
  },
  {
   "cell_type": "markdown",
   "metadata": {},
   "source": [
    "This result is clearly not good enough, we will need to do more data engineering in order to make a useful arima model"
   ]
  },
  {
   "cell_type": "markdown",
   "metadata": {},
   "source": [
    "#### observing the seasonal differences"
   ]
  },
  {
   "cell_type": "code",
   "execution_count": 10,
   "metadata": {
    "scrolled": true
   },
   "outputs": [
    {
     "data": {
      "text/plain": [
       "<matplotlib.axes._subplots.AxesSubplot at 0x7f1284bcd550>"
      ]
     },
     "execution_count": 10,
     "metadata": {},
     "output_type": "execute_result"
    },
    {
     "data": {
      "image/png": "[encoded data removed]",
      "text/plain": [
       "<matplotlib.figure.Figure at 0x7f1284bb4ef0>"
      ]
     },
     "metadata": {},
     "output_type": "display_data"
    }
   ],
   "source": [
    "sj_monthly.diff(12).plot()"
   ]
  },
  {
   "cell_type": "code",
   "execution_count": 11,
   "metadata": {
    "scrolled": true
   },
   "outputs": [
    {
     "data": {
      "text/plain": [
       "<matplotlib.axes._subplots.AxesSubplot at 0x7f128412f630>"
      ]
     },
     "execution_count": 11,
     "metadata": {},
     "output_type": "execute_result"
    },
    {
     "data": {
      "image/png": "[encoded data removed]",
      "text/plain": [
       "<matplotlib.figure.Figure at 0x7f1284148438>"
      ]
     },
     "metadata": {},
     "output_type": "display_data"
    }
   ],
   "source": [
    "iq_monthly.diff(12).plot()"
   ]
  },
  {
   "cell_type": "markdown",
   "metadata": {},
   "source": [
    "These plots clearly have a pattern to them.\n",
    "**Next Step** shall be to utilise this pattern in creating a powerful arima model."
   ]
  }
 ],
 "metadata": {
  "kernelspec": {
   "display_name": "Python 3",
   "language": "python",
   "name": "python3"
  },
  "language_info": {
   "codemirror_mode": {
    "name": "ipython",
    "version": 3
   },
   "file_extension": ".py",
   "mimetype": "text/x-python",
   "name": "python",
   "nbconvert_exporter": "python",
   "pygments_lexer": "ipython3",
   "version": "3.6.4"
  }
 },
 "nbformat": 4,
 "nbformat_minor": 2
}
